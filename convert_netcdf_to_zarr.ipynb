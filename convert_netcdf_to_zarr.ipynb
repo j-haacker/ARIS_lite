{
 "cells": [
  {
   "cell_type": "code",
   "execution_count": 1,
   "metadata": {},
   "outputs": [],
   "source": [
    "import os, shutil\n",
    "from glob import glob\n",
    "\n",
    "import numpy as np\n",
    "import xarray as xr\n",
    "from rasterio.warp import Resampling\n",
    "\n",
    "from dask.distributed import LocalCluster, Client"
   ]
  },
  {
   "cell_type": "code",
   "execution_count": 9,
   "metadata": {},
   "outputs": [],
   "source": [
    "proj_string = xr.open_dataset(\"../data/mnt/forsite2/tas/tas_Austria_2020_250m_v2.nc\").lambert_conformal_conic.attrs[\"spatial_ref\"]"
   ]
  },
  {
   "cell_type": "code",
   "execution_count": 10,
   "metadata": {},
   "outputs": [],
   "source": [
    "args = [\n",
    "    (\"forsite2/pr/pr_Austria_{year}_250m_v2.1.nc\", \"pr\", \"precipitation\"),\n",
    "    (\"forsite2/tasmin/tasmin_new_Austria_{year}_250m_v2.1.nc\", \"tasmin\", \"min_air_temp\"),\n",
    "    (\"forsite2/tasmax/tasmax_new_Austria_{year}_250m_v2.1.nc\", \"tasmax\", \"max_air_temp\"),\n",
    "    (\"forsite2/tas/tas_Austria_{year}_250m_v2.nc\", \"tas\", \"air_temperature\"),\n",
    "    (\"forsite2/PET/PET_Austria_{year}_250m_v2.nc\", \"PET\", \"pot_evapotransp\"),\n",
    "    (\"forsite2/wspd/wspd_{year}_250m.nc\", \"wspd\", \"wind_speed\"),\n",
    "    (\"forsite2/hurs/hurs_Austria_{year}_250m_v2.nc\", \"hurs\", \"rel_humidity\"),\n",
    "    (\"forsite2/tds/tds_{year}_250m.nc\", \"tds\", \"dew_point\"),\n",
    "    (\"APOLIS/APOLIS-SHORT-DAILY_GLO_hori_daysum_kWh_{year}*.nc\", \"GLO_hori_daysum_kWh\", \"horizontal_global_radiation\"),\n",
    "]"
   ]
  },
  {
   "cell_type": "code",
   "execution_count": null,
   "metadata": {},
   "outputs": [],
   "source": [
    "client = Client(LocalCluster(n_workers=8, memory_limit=\"3G\", threads_per_worker=2))\n",
    "client"
   ]
  },
  {
   "cell_type": "code",
   "execution_count": null,
   "metadata": {},
   "outputs": [],
   "source": [
    "for year in range(2019, 2024):\n",
    "\n",
    "    print(f\"Working on year {year}...\")\n",
    "\n",
    "    for path, old_var_name, new_var_name in args:\n",
    "        if (\n",
    "            (year in [2019, 2022] and old_var_name not in [\"pr\", \"tasmin\", \"tasmax\"])\n",
    "            or len(glob(\"*\", root_dir=f\"../data/input/{year}.zarr/{new_var_name}\")) == 1792\n",
    "        ):\n",
    "            continue\n",
    "        print(\"\\t...\", new_var_name)\n",
    "        if old_var_name == \"GLO_hori_daysum_kWh\":\n",
    "            ds = xr.open_zarr(f\"../data/input/{year}.zarr\", decode_coords=\"all\")\n",
    "            if os.path.isdir(\"tmp.zarr\"):\n",
    "                shutil.rmtree(\"tmp.zarr\")\n",
    "            for file in glob(os.path.join(\"../data/mnt\", path.format(year=year))):\n",
    "                tmp = xr.open_mfdataset(file, parallel=True)\n",
    "                tmp = tmp.rio.write_crs(tmp.lambert_conformal_conic.attrs[\"crs_wkt\"])[old_var_name].rename(new_var_name)\n",
    "                tmp = (tmp.reset_coords([\"lat\", \"lon\"], drop=True)\n",
    "                          .rio.reproject_match(ds, resampling=Resampling.average)\n",
    "                          .reset_coords([\"lambert_conformal_conic\"], drop=True))\n",
    "                if os.path.isdir(\"tmp.zarr/time\"):\n",
    "                    tmp.to_zarr(\"tmp.zarr\", mode=\"a-\", append_dim=\"time\")\n",
    "                else:\n",
    "                    tmp.to_zarr(\"tmp.zarr\", mode=\"w\")\n",
    "            with xr.open_zarr(\"tmp.zarr\") as ds:\n",
    "                delayed = ds.sortby(\"time\").drop_encoding().chunk(chunks={\"time\": len(ds.time), \"x\": 41, \"y\": 37}).to_zarr(f\"../data/input/{year}.zarr\", mode=\"a-\", compute=False)\n",
    "        else:\n",
    "            delayed = (xr.open_mfdataset(os.path.join(\"../data/mnt\", path.format(year=year)), parallel=True)[old_var_name]\n",
    "                        .rename(new_var_name).sortby(\"time\").chunk(chunks={\"time\": -1, \"x\": 41, \"y\": 37}).rio.write_crs(proj_string)\n",
    "                        .to_zarr(f\"../data/input/{year}.zarr\", mode=\"a-\", compute=False))\n",
    "        delayed.compute()\n",
    "        if os.path.isdir(\"tmp.zarr\"):\n",
    "            shutil.rmtree(\"tmp.zarr\")\n",
    "    \n",
    "    ds = xr.open_zarr(f\"../data/input/{year}.zarr\", decode_coords=\"all\")\n",
    "    if year not in [2019, 2022]:\n",
    "        da_list = []\n",
    "        for new_var_name in [\"min_rel_hum\", \"max_rel_hum\"]:\n",
    "            if len(glob(\"*\", root_dir=f\"../data/input/{year}.zarr/{new_var_name}\")) == 1792:\n",
    "                continue\n",
    "            print(\"\\t...\", new_var_name, \"(graphs only)\")\n",
    "            minmax_inverted = \"min\" if new_var_name.startswith(\"max\") else \"max\"\n",
    "            beta = 17.625\n",
    "            lamb_ = 243.04\n",
    "            da_list.append((np.exp(beta*ds[\"dew_point\"]/(lamb_+ds[\"dew_point\"])-beta*ds[f\"{minmax_inverted}_air_temp\"]/(lamb_+ds[f\"{minmax_inverted}_air_temp\"]))).rename(new_var_name))\n",
    "        delayed = xr.merge(da_list).drop_encoding().chunk(chunks={\"time\": len(ds.time), \"x\": 41, \"y\": 37}).to_zarr(f\"../data/input/{year}.zarr\", mode=\"a-\", compute=False)\n",
    "        print(\"\\t... compute\")\n",
    "        delayed.compute()\n",
    "\n",
    "    print(\"...done.\")"
   ]
  }
 ],
 "metadata": {
  "kernelspec": {
   "display_name": "devel",
   "language": "python",
   "name": "python3"
  },
  "language_info": {
   "codemirror_mode": {
    "name": "ipython",
    "version": 3
   },
   "file_extension": ".py",
   "mimetype": "text/x-python",
   "name": "python",
   "nbconvert_exporter": "python",
   "pygments_lexer": "ipython3",
   "version": "3.12.8"
  }
 },
 "nbformat": 4,
 "nbformat_minor": 2
}
