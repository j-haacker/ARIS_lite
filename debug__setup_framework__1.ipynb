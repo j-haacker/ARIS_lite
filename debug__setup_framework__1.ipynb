{
 "cells": [
  {
   "cell_type": "code",
   "execution_count": 1,
   "metadata": {},
   "outputs": [],
   "source": [
    "import xarray as xr"
   ]
  },
  {
   "cell_type": "code",
   "execution_count": 2,
   "metadata": {},
   "outputs": [],
   "source": [
    "ds = xr.open_zarr(\"../data/intermediate/2020.zarr\", decode_coords=\"all\")"
   ]
  },
  {
   "cell_type": "code",
   "execution_count": null,
   "metadata": {},
   "outputs": [],
   "source": [
    "ctrl_point = ds.sel(crop=\"winter wheat\").sel(x=658250, y=463250, method=\"nearest\")"
   ]
  },
  {
   "cell_type": "code",
   "execution_count": 9,
   "metadata": {},
   "outputs": [],
   "source": [
    "import pandas as pd"
   ]
  },
  {
   "cell_type": "code",
   "execution_count": 54,
   "metadata": {},
   "outputs": [],
   "source": [
    "ref_df = pd.read_excel(\"../_ARIS_example_output/CP-Dateien/6 WB_HIST_roi-0_secX-0_secY-0 ok.xlsx\", \"6 WB_HIST_roi-0_secX-0_secY-0\").dropna(thresh=20)#, parse_dates=[\"Date\"], date_format=\"\""
   ]
  },
  {
   "cell_type": "code",
   "execution_count": null,
   "metadata": {},
   "outputs": [],
   "source": [
    "ref_df[\"Date\"] = ref_df.Date.apply(lambda x: x.replace(\"CET\", \"+0100\").replace(\"CEST\", \"+0200\"))"
   ]
  },
  {
   "cell_type": "code",
   "execution_count": null,
   "metadata": {},
   "outputs": [],
   "source": [
    "ref_df[\"Date\"] = pd.DatetimeIndex(pd.to_datetime(ref_df.Date, format=\"%a %b %d %H:%M:%S %z %Y\", utc=True)).tz_localize(None)"
   ]
  },
  {
   "cell_type": "code",
   "execution_count": 71,
   "metadata": {},
   "outputs": [],
   "source": [
    "ref_df.index = pd.MultiIndex.from_frame(ref_df.loc(1)[[\"cropName\", \"Date\"]])"
   ]
  },
  {
   "cell_type": "code",
   "execution_count": null,
   "metadata": {},
   "outputs": [],
   "source": [
    "ctrl_point.Kc_factor.plot()\n",
    "ref_df.loc(0)[(\"wWheat\", \"2016\")].kc.plot()"
   ]
  },
  {
   "cell_type": "code",
   "execution_count": null,
   "metadata": {},
   "outputs": [],
   "source": [
    "ctrl_point.sel(layer=\"top\").soil_depletion.plot()\n",
    "ref_df.loc(0)[(\"wWheat\", \"2016\")].currDrTop.plot()"
   ]
  },
  {
   "cell_type": "code",
   "execution_count": null,
   "metadata": {},
   "outputs": [],
   "source": [
    "ctrl_point.sel(layer=\"top\").evapo_ETC.plot()\n",
    "ref_df.loc(0)[(\"wWheat\", \"2016\")].etcTop.plot()"
   ]
  },
  {
   "cell_type": "code",
   "execution_count": null,
   "metadata": {},
   "outputs": [],
   "source": [
    "ctrl_point.sel(layer=\"top\").evapotranspiration.plot()\n",
    "ref_df.loc(0)[(\"wWheat\", \"2016\")].etaTop.plot()"
   ]
  }
 ],
 "metadata": {
  "kernelspec": {
   "display_name": "devel",
   "language": "python",
   "name": "python3"
  },
  "language_info": {
   "codemirror_mode": {
    "name": "ipython",
    "version": 3
   },
   "file_extension": ".py",
   "mimetype": "text/x-python",
   "name": "python",
   "nbconvert_exporter": "python",
   "pygments_lexer": "ipython3",
   "version": "3.12.8"
  }
 },
 "nbformat": 4,
 "nbformat_minor": 2
}
